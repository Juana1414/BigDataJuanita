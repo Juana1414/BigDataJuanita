{
 "cells": [
  {
   "cell_type": "code",
   "execution_count": 2,
   "id": "focal-damages",
   "metadata": {},
   "outputs": [
    {
     "name": "stdout",
     "output_type": "stream",
     "text": [
      "Requirement already satisfied: wordcloud in /home/ec2-user/anaconda3/envs/python3/lib/python3.6/site-packages (1.8.1)\n",
      "Requirement already satisfied: pillow in /home/ec2-user/anaconda3/envs/python3/lib/python3.6/site-packages (from wordcloud) (7.2.0)\n",
      "Requirement already satisfied: matplotlib in /home/ec2-user/anaconda3/envs/python3/lib/python3.6/site-packages (from wordcloud) (3.1.3)\n",
      "Requirement already satisfied: numpy>=1.6.1 in /home/ec2-user/anaconda3/envs/python3/lib/python3.6/site-packages (from wordcloud) (1.19.5)\n",
      "Requirement already satisfied: kiwisolver>=1.0.1 in /home/ec2-user/anaconda3/envs/python3/lib/python3.6/site-packages (from matplotlib->wordcloud) (1.1.0)\n",
      "Requirement already satisfied: cycler>=0.10 in /home/ec2-user/anaconda3/envs/python3/lib/python3.6/site-packages (from matplotlib->wordcloud) (0.10.0)\n",
      "Requirement already satisfied: python-dateutil>=2.1 in /home/ec2-user/anaconda3/envs/python3/lib/python3.6/site-packages (from matplotlib->wordcloud) (2.8.1)\n",
      "Requirement already satisfied: pyparsing!=2.0.4,!=2.1.2,!=2.1.6,>=2.0.1 in /home/ec2-user/anaconda3/envs/python3/lib/python3.6/site-packages (from matplotlib->wordcloud) (2.4.7)\n",
      "Requirement already satisfied: six in /home/ec2-user/anaconda3/envs/python3/lib/python3.6/site-packages (from cycler>=0.10->matplotlib->wordcloud) (1.15.0)\n",
      "Requirement already satisfied: setuptools in /home/ec2-user/anaconda3/envs/python3/lib/python3.6/site-packages (from kiwisolver>=1.0.1->matplotlib->wordcloud) (51.1.2)\n",
      "\u001b[33mWARNING: You are using pip version 20.3.3; however, version 21.0.1 is available.\n",
      "You should consider upgrading via the '/home/ec2-user/anaconda3/envs/python3/bin/python -m pip install --upgrade pip' command.\u001b[0m\n",
      "Note: you may need to restart the kernel to use updated packages.\n"
     ]
    }
   ],
   "source": [
    "pip install wordcloud"
   ]
  },
  {
   "cell_type": "code",
   "execution_count": 3,
   "id": "sorted-trademark",
   "metadata": {},
   "outputs": [
    {
     "name": "stdout",
     "output_type": "stream",
     "text": [
      "Collecting textblob\n",
      "  Downloading textblob-0.15.3-py2.py3-none-any.whl (636 kB)\n",
      "\u001b[K     |████████████████████████████████| 636 kB 31.0 MB/s eta 0:00:01\n",
      "\u001b[?25hRequirement already satisfied: nltk>=3.1 in /home/ec2-user/anaconda3/envs/python3/lib/python3.6/site-packages (from textblob) (3.4.5)\n",
      "Requirement already satisfied: six in /home/ec2-user/anaconda3/envs/python3/lib/python3.6/site-packages (from nltk>=3.1->textblob) (1.15.0)\n",
      "Installing collected packages: textblob\n",
      "Successfully installed textblob-0.15.3\n",
      "\u001b[33mWARNING: You are using pip version 20.3.3; however, version 21.0.1 is available.\n",
      "You should consider upgrading via the '/home/ec2-user/anaconda3/envs/python3/bin/python -m pip install --upgrade pip' command.\u001b[0m\n",
      "Note: you may need to restart the kernel to use updated packages.\n"
     ]
    }
   ],
   "source": [
    "pip install textblob"
   ]
  },
  {
   "cell_type": "code",
   "execution_count": 4,
   "id": "proper-bumper",
   "metadata": {},
   "outputs": [],
   "source": [
    "import pandas as pd\n",
    "import matplotlib.pyplot as plt\n",
    "%matplotlib inline  \n",
    "import nltk\n",
    "from nltk import word_tokenize, sent_tokenize\n",
    "from nltk.corpus import stopwords\n",
    "from nltk.stem import LancasterStemmer, WordNetLemmatizer, PorterStemmer\n",
    "from wordcloud import WordCloud, STOPWORDS\n",
    "from textblob import TextBlob"
   ]
  },
  {
   "cell_type": "code",
   "execution_count": 7,
   "id": "accessory-biotechnology",
   "metadata": {},
   "outputs": [],
   "source": [
    "from urllib.request import urlopen \n",
    "json = urlopen(\"http://54.91.198.32:8080/quotes\").read()\n",
    "df = pd.read_json(json)"
   ]
  },
  {
   "cell_type": "code",
   "execution_count": 8,
   "id": "effective-membership",
   "metadata": {},
   "outputs": [
    {
     "data": {
      "text/html": [
       "<div>\n",
       "<style scoped>\n",
       "    .dataframe tbody tr th:only-of-type {\n",
       "        vertical-align: middle;\n",
       "    }\n",
       "\n",
       "    .dataframe tbody tr th {\n",
       "        vertical-align: top;\n",
       "    }\n",
       "\n",
       "    .dataframe thead th {\n",
       "        text-align: right;\n",
       "    }\n",
       "</style>\n",
       "<table border=\"1\" class=\"dataframe\">\n",
       "  <thead>\n",
       "    <tr style=\"text-align: right;\">\n",
       "      <th></th>\n",
       "      <th>author</th>\n",
       "      <th>quote_desc</th>\n",
       "      <th>quote_id</th>\n",
       "      <th>quote_type</th>\n",
       "    </tr>\n",
       "  </thead>\n",
       "  <tbody>\n",
       "    <tr>\n",
       "      <th>0</th>\n",
       "      <td>Nelson Mandela</td>\n",
       "      <td>It always seem impossible until it is done.</td>\n",
       "      <td>1</td>\n",
       "      <td>Motivation</td>\n",
       "    </tr>\n",
       "    <tr>\n",
       "      <th>1</th>\n",
       "      <td>Eleanor Roosevelt</td>\n",
       "      <td>With the new day comes new strength and new th...</td>\n",
       "      <td>2</td>\n",
       "      <td>Motivation</td>\n",
       "    </tr>\n",
       "    <tr>\n",
       "      <th>2</th>\n",
       "      <td>Mark Twain</td>\n",
       "      <td>The secret of getting ahead is getting started.</td>\n",
       "      <td>3</td>\n",
       "      <td>Motivation</td>\n",
       "    </tr>\n",
       "    <tr>\n",
       "      <th>3</th>\n",
       "      <td>Theodore Roosevelt</td>\n",
       "      <td>With self-discipline most anything is possible.</td>\n",
       "      <td>4</td>\n",
       "      <td>Inspiration</td>\n",
       "    </tr>\n",
       "    <tr>\n",
       "      <th>4</th>\n",
       "      <td>Aristotle</td>\n",
       "      <td>It is during our darkest moments that we must ...</td>\n",
       "      <td>5</td>\n",
       "      <td>Inspiration</td>\n",
       "    </tr>\n",
       "    <tr>\n",
       "      <th>5</th>\n",
       "      <td>Nelson Mandela</td>\n",
       "      <td>It always seem impossible until it is done.</td>\n",
       "      <td>6</td>\n",
       "      <td>Motivation</td>\n",
       "    </tr>\n",
       "    <tr>\n",
       "      <th>6</th>\n",
       "      <td>Eleanor Roosevelt</td>\n",
       "      <td>With the new day comes new strength and new th...</td>\n",
       "      <td>7</td>\n",
       "      <td>Motivation</td>\n",
       "    </tr>\n",
       "    <tr>\n",
       "      <th>7</th>\n",
       "      <td>Mark Twain</td>\n",
       "      <td>The secret of getting ahead is getting started.</td>\n",
       "      <td>8</td>\n",
       "      <td>Motivation</td>\n",
       "    </tr>\n",
       "    <tr>\n",
       "      <th>8</th>\n",
       "      <td>Theodore Roosevelt</td>\n",
       "      <td>With self-discipline most anything is possible.</td>\n",
       "      <td>9</td>\n",
       "      <td>Inspiration</td>\n",
       "    </tr>\n",
       "    <tr>\n",
       "      <th>9</th>\n",
       "      <td>Aristotle</td>\n",
       "      <td>It is during our darkest moments that we must ...</td>\n",
       "      <td>10</td>\n",
       "      <td>Inspiration</td>\n",
       "    </tr>\n",
       "    <tr>\n",
       "      <th>10</th>\n",
       "      <td>Homero Simpson</td>\n",
       "      <td>D'oh!</td>\n",
       "      <td>11</td>\n",
       "      <td>Motivation</td>\n",
       "    </tr>\n",
       "  </tbody>\n",
       "</table>\n",
       "</div>"
      ],
      "text/plain": [
       "                author                                         quote_desc  \\\n",
       "0       Nelson Mandela        It always seem impossible until it is done.   \n",
       "1    Eleanor Roosevelt  With the new day comes new strength and new th...   \n",
       "2           Mark Twain    The secret of getting ahead is getting started.   \n",
       "3   Theodore Roosevelt    With self-discipline most anything is possible.   \n",
       "4            Aristotle  It is during our darkest moments that we must ...   \n",
       "5       Nelson Mandela        It always seem impossible until it is done.   \n",
       "6    Eleanor Roosevelt  With the new day comes new strength and new th...   \n",
       "7           Mark Twain    The secret of getting ahead is getting started.   \n",
       "8   Theodore Roosevelt    With self-discipline most anything is possible.   \n",
       "9            Aristotle  It is during our darkest moments that we must ...   \n",
       "10      Homero Simpson                                              D'oh!   \n",
       "\n",
       "    quote_id   quote_type  \n",
       "0          1   Motivation  \n",
       "1          2   Motivation  \n",
       "2          3   Motivation  \n",
       "3          4  Inspiration  \n",
       "4          5  Inspiration  \n",
       "5          6   Motivation  \n",
       "6          7   Motivation  \n",
       "7          8   Motivation  \n",
       "8          9  Inspiration  \n",
       "9         10  Inspiration  \n",
       "10        11   Motivation  "
      ]
     },
     "execution_count": 8,
     "metadata": {},
     "output_type": "execute_result"
    }
   ],
   "source": [
    "df"
   ]
  },
  {
   "cell_type": "code",
   "execution_count": 9,
   "id": "canadian-formation",
   "metadata": {},
   "outputs": [
    {
     "data": {
      "text/plain": [
       "(11, 4)"
      ]
     },
     "execution_count": 9,
     "metadata": {},
     "output_type": "execute_result"
    }
   ],
   "source": [
    "df.shape"
   ]
  },
  {
   "cell_type": "code",
   "execution_count": 10,
   "id": "strategic-latest",
   "metadata": {},
   "outputs": [
    {
     "data": {
      "text/plain": [
       "Index(['author', 'quote_desc', 'quote_id', 'quote_type'], dtype='object')"
      ]
     },
     "execution_count": 10,
     "metadata": {},
     "output_type": "execute_result"
    }
   ],
   "source": [
    "\n",
    "df.columns"
   ]
  },
  {
   "cell_type": "code",
   "execution_count": 11,
   "id": "authorized-religion",
   "metadata": {},
   "outputs": [],
   "source": [
    "columns = ['author','quote_desc','quote_id','quote_type']\n",
    " \n",
    "da = pd.DataFrame(df.drop(columns,axis=1,inplace=False))"
   ]
  },
  {
   "cell_type": "code",
   "execution_count": 12,
   "id": "hidden-relay",
   "metadata": {},
   "outputs": [
    {
     "data": {
      "text/html": [
       "<div>\n",
       "<style scoped>\n",
       "    .dataframe tbody tr th:only-of-type {\n",
       "        vertical-align: middle;\n",
       "    }\n",
       "\n",
       "    .dataframe tbody tr th {\n",
       "        vertical-align: top;\n",
       "    }\n",
       "\n",
       "    .dataframe thead th {\n",
       "        text-align: right;\n",
       "    }\n",
       "</style>\n",
       "<table border=\"1\" class=\"dataframe\">\n",
       "  <thead>\n",
       "    <tr style=\"text-align: right;\">\n",
       "      <th></th>\n",
       "    </tr>\n",
       "  </thead>\n",
       "  <tbody>\n",
       "    <tr>\n",
       "      <th>0</th>\n",
       "    </tr>\n",
       "    <tr>\n",
       "      <th>1</th>\n",
       "    </tr>\n",
       "    <tr>\n",
       "      <th>2</th>\n",
       "    </tr>\n",
       "    <tr>\n",
       "      <th>3</th>\n",
       "    </tr>\n",
       "    <tr>\n",
       "      <th>4</th>\n",
       "    </tr>\n",
       "    <tr>\n",
       "      <th>5</th>\n",
       "    </tr>\n",
       "    <tr>\n",
       "      <th>6</th>\n",
       "    </tr>\n",
       "    <tr>\n",
       "      <th>7</th>\n",
       "    </tr>\n",
       "    <tr>\n",
       "      <th>8</th>\n",
       "    </tr>\n",
       "    <tr>\n",
       "      <th>9</th>\n",
       "    </tr>\n",
       "    <tr>\n",
       "      <th>10</th>\n",
       "    </tr>\n",
       "  </tbody>\n",
       "</table>\n",
       "</div>"
      ],
      "text/plain": [
       "Empty DataFrame\n",
       "Columns: []\n",
       "Index: [0, 1, 2, 3, 4, 5, 6, 7, 8, 9, 10]"
      ]
     },
     "execution_count": 12,
     "metadata": {},
     "output_type": "execute_result"
    }
   ],
   "source": [
    "\n",
    "da"
   ]
  },
  {
   "cell_type": "code",
   "execution_count": 13,
   "id": "tough-story",
   "metadata": {},
   "outputs": [
    {
     "data": {
      "text/plain": [
       "<matplotlib.axes._subplots.AxesSubplot at 0x7f1775f8a9b0>"
      ]
     },
     "execution_count": 13,
     "metadata": {},
     "output_type": "execute_result"
    },
    {
     "data": {
      "image/png": "[encoded data removed]",
      "text/plain": [
       "<Figure size 432x288 with 1 Axes>"
      ]
     },
     "metadata": {
      "needs_background": "light"
     },
     "output_type": "display_data"
    }
   ],
   "source": [
    "df['quote_type'].value_counts().plot(kind='bar')"
   ]
  },
  {
   "cell_type": "code",
   "execution_count": 14,
   "id": "conventional-patrick",
   "metadata": {},
   "outputs": [],
   "source": [
    "df['quote_desc'] = df['quote_desc'].astype(str)"
   ]
  },
  {
   "cell_type": "code",
   "execution_count": 15,
   "id": "tracked-extraction",
   "metadata": {},
   "outputs": [
    {
     "data": {
      "text/plain": [
       "'The secret of getting ahead is getting started.'"
      ]
     },
     "execution_count": 15,
     "metadata": {},
     "output_type": "execute_result"
    }
   ],
   "source": [
    "df['quote_desc'][2]"
   ]
  },
  {
   "cell_type": "code",
   "execution_count": 16,
   "id": "cellular-textbook",
   "metadata": {},
   "outputs": [],
   "source": [
    "\n",
    "df['quote_desc'] = df['quote_desc'].apply(lambda x: \" \".join(x.lower() for x in x.split()))"
   ]
  },
  {
   "cell_type": "code",
   "execution_count": 17,
   "id": "median-jamaica",
   "metadata": {},
   "outputs": [
    {
     "data": {
      "text/plain": [
       "'the secret of getting ahead is getting started.'"
      ]
     },
     "execution_count": 17,
     "metadata": {},
     "output_type": "execute_result"
    }
   ],
   "source": [
    "df['quote_desc'][2]"
   ]
  },
  {
   "cell_type": "code",
   "execution_count": 18,
   "id": "still-inspection",
   "metadata": {},
   "outputs": [],
   "source": [
    "df['quote_desc'] = df['quote_desc'].str.replace('[^\\w\\s]','')"
   ]
  },
  {
   "cell_type": "code",
   "execution_count": 19,
   "id": "accompanied-tucson",
   "metadata": {},
   "outputs": [
    {
     "name": "stderr",
     "output_type": "stream",
     "text": [
      "[nltk_data] Downloading package stopwords to\n",
      "[nltk_data]     /home/ec2-user/nltk_data...\n",
      "[nltk_data]   Unzipping corpora/stopwords.zip.\n"
     ]
    },
    {
     "data": {
      "text/plain": [
       "True"
      ]
     },
     "execution_count": 19,
     "metadata": {},
     "output_type": "execute_result"
    }
   ],
   "source": [
    "import nltk\n",
    "nltk.download('stopwords')"
   ]
  },
  {
   "cell_type": "code",
   "execution_count": 20,
   "id": "prostate-knowing",
   "metadata": {},
   "outputs": [],
   "source": [
    "stop = stopwords.words('english')"
   ]
  },
  {
   "cell_type": "code",
   "execution_count": 21,
   "id": "steady-position",
   "metadata": {},
   "outputs": [
    {
     "data": {
      "text/plain": [
       "0                 always seem impossible done\n",
       "1     new day comes new strength new thoughts\n",
       "2        secret getting ahead getting started\n",
       "3            selfdiscipline anything possible\n",
       "4        darkest moments must focus see light\n",
       "5                 always seem impossible done\n",
       "6     new day comes new strength new thoughts\n",
       "7        secret getting ahead getting started\n",
       "8            selfdiscipline anything possible\n",
       "9        darkest moments must focus see light\n",
       "10                                        doh\n",
       "Name: quote_desc, dtype: object"
      ]
     },
     "execution_count": 21,
     "metadata": {},
     "output_type": "execute_result"
    }
   ],
   "source": [
    "df['quote_desc'].apply(lambda x: \" \".join(x for x in x.split() if x not in stop))"
   ]
  },
  {
   "cell_type": "code",
   "execution_count": 22,
   "id": "charged-protocol",
   "metadata": {},
   "outputs": [
    {
     "data": {
      "text/plain": [
       "'the secret of getting ahead is getting started'"
      ]
     },
     "execution_count": 22,
     "metadata": {},
     "output_type": "execute_result"
    }
   ],
   "source": [
    "df['quote_desc'][2]"
   ]
  },
  {
   "cell_type": "code",
   "execution_count": 23,
   "id": "adopted-desktop",
   "metadata": {},
   "outputs": [],
   "source": [
    "\n",
    "st = PorterStemmer()"
   ]
  },
  {
   "cell_type": "code",
   "execution_count": 24,
   "id": "metric-grade",
   "metadata": {},
   "outputs": [],
   "source": [
    "df['quote_desc'] = df['quote_desc'].apply(lambda x: \" \".join([st.stem(word) for word in x.split()]))"
   ]
  },
  {
   "cell_type": "code",
   "execution_count": 25,
   "id": "thorough-interpretation",
   "metadata": {},
   "outputs": [
    {
     "data": {
      "text/plain": [
       "'the secret of get ahead is get start'"
      ]
     },
     "execution_count": 25,
     "metadata": {},
     "output_type": "execute_result"
    }
   ],
   "source": [
    "\n",
    "df['quote_desc'][2]"
   ]
  },
  {
   "cell_type": "code",
   "execution_count": 26,
   "id": "reported-tuning",
   "metadata": {},
   "outputs": [],
   "source": [
    "from wordcloud import WordCloud, STOPWORDS\n",
    "import matplotlib.pyplot as plt\n",
    "stopwords = set(STOPWORDS)"
   ]
  },
  {
   "cell_type": "code",
   "execution_count": 27,
   "id": "immune-updating",
   "metadata": {},
   "outputs": [
    {
     "data": {
      "image/png": "[encoded data removed]",
      "text/plain": [
       "<Figure size 1008x1008 with 1 Axes>"
      ]
     },
     "metadata": {
      "needs_background": "light"
     },
     "output_type": "display_data"
    }
   ],
   "source": [
    "\n",
    "def show_wordcloud(col, title = None):\n",
    "    wordcloud = WordCloud(\n",
    "        background_color='white',\n",
    "        stopwords=stopwords,\n",
    "        max_words=500,\n",
    "        max_font_size=40, \n",
    "        scale=3,\n",
    "        random_state=1\n",
    "    ).generate(str(col))\n",
    "\n",
    "    fig = plt.figure(1, figsize=(14, 14))\n",
    "    plt.axis('off')\n",
    "    if title: \n",
    "        fig.suptitle(title, fontsize=20)\n",
    "        fig.subplots_adjust(top=2.3)\n",
    "\n",
    "    plt.imshow(wordcloud)\n",
    "    plt.show()\n",
    "\n",
    "\n",
    "if __name__ == '__main__':\n",
    "\n",
    "    show_wordcloud(df['quote_desc'])"
   ]
  },
  {
   "cell_type": "code",
   "execution_count": 28,
   "id": "searching-pharmacy",
   "metadata": {},
   "outputs": [],
   "source": [
    "def senti(x):\n",
    "    return TextBlob(x).sentiment  \n",
    " \n",
    "df['words'] = df['quote_desc'].apply(senti)"
   ]
  },
  {
   "cell_type": "code",
   "execution_count": 29,
   "id": "corresponding-assignment",
   "metadata": {},
   "outputs": [
    {
     "data": {
      "text/html": [
       "<div>\n",
       "<style scoped>\n",
       "    .dataframe tbody tr th:only-of-type {\n",
       "        vertical-align: middle;\n",
       "    }\n",
       "\n",
       "    .dataframe tbody tr th {\n",
       "        vertical-align: top;\n",
       "    }\n",
       "\n",
       "    .dataframe thead th {\n",
       "        text-align: right;\n",
       "    }\n",
       "</style>\n",
       "<table border=\"1\" class=\"dataframe\">\n",
       "  <thead>\n",
       "    <tr style=\"text-align: right;\">\n",
       "      <th></th>\n",
       "      <th>author</th>\n",
       "      <th>quote_desc</th>\n",
       "      <th>quote_id</th>\n",
       "      <th>quote_type</th>\n",
       "      <th>words</th>\n",
       "    </tr>\n",
       "  </thead>\n",
       "  <tbody>\n",
       "    <tr>\n",
       "      <th>0</th>\n",
       "      <td>Nelson Mandela</td>\n",
       "      <td>it alway seem imposs until it is done</td>\n",
       "      <td>1</td>\n",
       "      <td>Motivation</td>\n",
       "      <td>(0.0, 0.0)</td>\n",
       "    </tr>\n",
       "    <tr>\n",
       "      <th>1</th>\n",
       "      <td>Eleanor Roosevelt</td>\n",
       "      <td>with the new day come new strength and new tho...</td>\n",
       "      <td>2</td>\n",
       "      <td>Motivation</td>\n",
       "      <td>(0.13636363636363635, 0.45454545454545453)</td>\n",
       "    </tr>\n",
       "    <tr>\n",
       "      <th>2</th>\n",
       "      <td>Mark Twain</td>\n",
       "      <td>the secret of get ahead is get start</td>\n",
       "      <td>3</td>\n",
       "      <td>Motivation</td>\n",
       "      <td>(-0.4, 0.7)</td>\n",
       "    </tr>\n",
       "    <tr>\n",
       "      <th>3</th>\n",
       "      <td>Theodore Roosevelt</td>\n",
       "      <td>with selfdisciplin most anyth is possibl</td>\n",
       "      <td>4</td>\n",
       "      <td>Inspiration</td>\n",
       "      <td>(0.5, 0.5)</td>\n",
       "    </tr>\n",
       "    <tr>\n",
       "      <th>4</th>\n",
       "      <td>Aristotle</td>\n",
       "      <td>it is dure our darkest moment that we must foc...</td>\n",
       "      <td>5</td>\n",
       "      <td>Inspiration</td>\n",
       "      <td>(0.4, 0.7)</td>\n",
       "    </tr>\n",
       "    <tr>\n",
       "      <th>5</th>\n",
       "      <td>Nelson Mandela</td>\n",
       "      <td>it alway seem imposs until it is done</td>\n",
       "      <td>6</td>\n",
       "      <td>Motivation</td>\n",
       "      <td>(0.0, 0.0)</td>\n",
       "    </tr>\n",
       "    <tr>\n",
       "      <th>6</th>\n",
       "      <td>Eleanor Roosevelt</td>\n",
       "      <td>with the new day come new strength and new tho...</td>\n",
       "      <td>7</td>\n",
       "      <td>Motivation</td>\n",
       "      <td>(0.13636363636363635, 0.45454545454545453)</td>\n",
       "    </tr>\n",
       "    <tr>\n",
       "      <th>7</th>\n",
       "      <td>Mark Twain</td>\n",
       "      <td>the secret of get ahead is get start</td>\n",
       "      <td>8</td>\n",
       "      <td>Motivation</td>\n",
       "      <td>(-0.4, 0.7)</td>\n",
       "    </tr>\n",
       "    <tr>\n",
       "      <th>8</th>\n",
       "      <td>Theodore Roosevelt</td>\n",
       "      <td>with selfdisciplin most anyth is possibl</td>\n",
       "      <td>9</td>\n",
       "      <td>Inspiration</td>\n",
       "      <td>(0.5, 0.5)</td>\n",
       "    </tr>\n",
       "    <tr>\n",
       "      <th>9</th>\n",
       "      <td>Aristotle</td>\n",
       "      <td>it is dure our darkest moment that we must foc...</td>\n",
       "      <td>10</td>\n",
       "      <td>Inspiration</td>\n",
       "      <td>(0.4, 0.7)</td>\n",
       "    </tr>\n",
       "    <tr>\n",
       "      <th>10</th>\n",
       "      <td>Homero Simpson</td>\n",
       "      <td>doh</td>\n",
       "      <td>11</td>\n",
       "      <td>Motivation</td>\n",
       "      <td>(0.0, 0.0)</td>\n",
       "    </tr>\n",
       "  </tbody>\n",
       "</table>\n",
       "</div>"
      ],
      "text/plain": [
       "                author                                         quote_desc  \\\n",
       "0       Nelson Mandela              it alway seem imposs until it is done   \n",
       "1    Eleanor Roosevelt  with the new day come new strength and new tho...   \n",
       "2           Mark Twain               the secret of get ahead is get start   \n",
       "3   Theodore Roosevelt           with selfdisciplin most anyth is possibl   \n",
       "4            Aristotle  it is dure our darkest moment that we must foc...   \n",
       "5       Nelson Mandela              it alway seem imposs until it is done   \n",
       "6    Eleanor Roosevelt  with the new day come new strength and new tho...   \n",
       "7           Mark Twain               the secret of get ahead is get start   \n",
       "8   Theodore Roosevelt           with selfdisciplin most anyth is possibl   \n",
       "9            Aristotle  it is dure our darkest moment that we must foc...   \n",
       "10      Homero Simpson                                                doh   \n",
       "\n",
       "    quote_id   quote_type                                       words  \n",
       "0          1   Motivation                                  (0.0, 0.0)  \n",
       "1          2   Motivation  (0.13636363636363635, 0.45454545454545453)  \n",
       "2          3   Motivation                                 (-0.4, 0.7)  \n",
       "3          4  Inspiration                                  (0.5, 0.5)  \n",
       "4          5  Inspiration                                  (0.4, 0.7)  \n",
       "5          6   Motivation                                  (0.0, 0.0)  \n",
       "6          7   Motivation  (0.13636363636363635, 0.45454545454545453)  \n",
       "7          8   Motivation                                 (-0.4, 0.7)  \n",
       "8          9  Inspiration                                  (0.5, 0.5)  \n",
       "9         10  Inspiration                                  (0.4, 0.7)  \n",
       "10        11   Motivation                                  (0.0, 0.0)  "
      ]
     },
     "execution_count": 29,
     "metadata": {},
     "output_type": "execute_result"
    }
   ],
   "source": [
    "df"
   ]
  },
  {
   "cell_type": "code",
   "execution_count": 30,
   "id": "lightweight-budget",
   "metadata": {},
   "outputs": [
    {
     "data": {
      "text/plain": [
       "0                                    (0.0, 0.0)\n",
       "1    (0.13636363636363635, 0.45454545454545453)\n",
       "2                                   (-0.4, 0.7)\n",
       "3                                    (0.5, 0.5)\n",
       "4                                    (0.4, 0.7)\n",
       "Name: words, dtype: object"
      ]
     },
     "execution_count": 30,
     "metadata": {},
     "output_type": "execute_result"
    }
   ],
   "source": [
    "df.words.head()"
   ]
  },
  {
   "cell_type": "code",
   "execution_count": null,
   "id": "legislative-sociology",
   "metadata": {},
   "outputs": [],
   "source": []
  }
 ],
 "metadata": {
  "kernelspec": {
   "display_name": "conda_python3",
   "language": "python",
   "name": "conda_python3"
  },
  "language_info": {
   "codemirror_mode": {
    "name": "ipython",
    "version": 3
   },
   "file_extension": ".py",
   "mimetype": "text/x-python",
   "name": "python",
   "nbconvert_exporter": "python",
   "pygments_lexer": "ipython3",
   "version": "3.6.10"
  }
 },
 "nbformat": 4,
 "nbformat_minor": 5
}
